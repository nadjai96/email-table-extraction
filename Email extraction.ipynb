{
 "cells": [
  {
   "cell_type": "code",
   "execution_count": 1,
   "metadata": {},
   "outputs": [
    {
     "name": "stdout",
     "output_type": "stream",
     "text": [
      "No tables found in this email. Skipping...\n",
      "No tables found in this email. Skipping...\n"
     ]
    },
    {
     "name": "stderr",
     "output_type": "stream",
     "text": [
      "C:\\Users\\User\\AppData\\Local\\Temp\\ipykernel_21664\\1865219229.py:63: FutureWarning: save is not part of the public API, usage can give unexpected results and will be removed in a future version\n",
      "  writer.save()\n"
     ]
    }
   ],
   "source": [
    "import win32com.client as win32\n",
    "import os\n",
    "import pandas as pd\n",
    "from datetime import datetime, timedelta\n",
    "import pytz\n",
    "\n",
    "# Define the location to save your files\n",
    "output_folder_path = 'Your_Output_Folder'  # replace with the path of your folder\n",
    "\n",
    "# Define the subject string to look for and the number of days\n",
    "subject_string = \"Your_Subject_String\"  # replace with your subject string\n",
    "num_days = 30  # replace with your number of days\n",
    "\n",
    "# Start Outlook\n",
    "Outlook = win32.Dispatch(\"Outlook.Application\").GetNamespace(\"MAPI\")\n",
    "inbox = Outlook.GetDefaultFolder(6)  # 6 refers to the inbox\n",
    "\n",
    "# Get all emails\n",
    "messages = inbox.Items\n",
    "\n",
    "# Get the current date and time\n",
    "now = datetime.now(pytz.utc)\n",
    "\n",
    "# Define the Excel file path\n",
    "excel_file_path = os.path.join(output_folder_path, 'Output_Filename.xlsx')\n",
    "\n",
    "# Create an Excel writer object\n",
    "writer = pd.ExcelWriter(excel_file_path, engine='openpyxl')\n",
    "\n",
    "# Loop through all emails in reverse order (most recent first)\n",
    "for message in reversed(messages):\n",
    "\n",
    "    # If the subject contains the specified subject string and the email was received within the specified number of days\n",
    "    if subject_string in message.Subject and now - message.ReceivedTime < timedelta(days=num_days):\n",
    "\n",
    "        # Write the HTML body to a temporary file\n",
    "        temp_file_path = os.path.join(output_folder_path, 'temp.html')\n",
    "        with open(temp_file_path, 'w', encoding='utf-8') as file:\n",
    "            file.write(message.HTMLBody)\n",
    "\n",
    "        # Attempt to read the first table from the HTML file into a pandas DataFrame\n",
    "        try:\n",
    "            table = pd.read_html(temp_file_path)[0]\n",
    "        except ValueError:\n",
    "            print(\"No tables found in this email. Skipping...\")\n",
    "            continue\n",
    "\n",
    "        df = table  # assuming the table you want is the first one\n",
    "\n",
    "        # Remove columns that are identical to their neighboring column\n",
    "        if df.shape[1] > 0:  # if df has at least one column\n",
    "            cols_to_drop = []  # start with an empty list\n",
    "            for i in range(df.shape[1]-1):  # iterate through all columns, except the last one\n",
    "                if df.iloc[:, i].equals(df.iloc[:, i+1]):  # if this column is equal to the next one\n",
    "                    cols_to_drop.append(df.columns[i+1])  # add the next column to the list\n",
    "\n",
    "            # Now drop all the columns in the list\n",
    "            df.drop(cols_to_drop, axis=1, inplace=True)\n",
    "\n",
    "        # Create a timestamp from the received time of the email\n",
    "        timestamp = datetime.strftime(message.ReceivedTime, '%Y-%m-%d')\n",
    "\n",
    "        # Write the table to a sheet in the Excel file\n",
    "        df.to_excel(writer, sheet_name=f'{timestamp}', index=False)\n",
    "\n",
    "        # Delete the temporary HTML file\n",
    "        os.remove(temp_file_path)\n",
    "\n",
    "# Save the Excel file\n",
    "writer.save()\n"
   ]
  },
  {
   "cell_type": "code",
   "execution_count": null,
   "metadata": {},
   "outputs": [],
   "source": []
  }
 ],
 "metadata": {
  "kernelspec": {
   "display_name": "Python 3",
   "language": "python",
   "name": "python3"
  },
  "language_info": {
   "codemirror_mode": {
    "name": "ipython",
    "version": 3
   },
   "file_extension": ".py",
   "mimetype": "text/x-python",
   "name": "python",
   "nbconvert_exporter": "python",
   "pygments_lexer": "ipython3",
   "version": "3.10.11"
  },
  "orig_nbformat": 4
 },
 "nbformat": 4,
 "nbformat_minor": 2
}
